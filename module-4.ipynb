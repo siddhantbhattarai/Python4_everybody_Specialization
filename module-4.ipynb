{
 "cells": [
  {
   "cell_type": "markdown",
   "metadata": {},
   "source": [
    "1. **CRUD Operations**\n",
    "    - Write a program that creates a SQLite database and a table for storing employee information (name, age, position). Perform basic CRUD operations: add, read, update, and delete records."
   ]
  },
  {
   "cell_type": "code",
   "execution_count": 13,
   "metadata": {},
   "outputs": [],
   "source": [
    "import sqlite3\n",
    "\n",
    "# Connect to the SQLite database\n",
    "conn = sqlite3.connect('employees.db')\n",
    "\n",
    "# Create a cursor object to execute SQL queries\n",
    "cursor = conn.cursor()\n",
    "\n",
    "# Create a table to store employee information\n",
    "cursor.execute('''CREATE TABLE IF NOT EXISTS employees (\n",
    "                    id INTEGER PRIMARY KEY,\n",
    "                    name TEXT NOT NULL,\n",
    "                    age INTEGER,\n",
    "                    position TEXT\n",
    "                )''')\n",
    "conn.commit()\n",
    "\n",
    "def add_employee(name, age, position):\n",
    "    cursor.execute('''INSERT INTO employees (name, age, position) \n",
    "                      VALUES (?, ?, ?)''', (name, age, position))\n",
    "    conn.commit()\n",
    "    print(\"Employee added successfully.\")\n",
    "\n",
    "def read_employees():\n",
    "    cursor.execute('''SELECT * FROM employees''')\n",
    "    employees = cursor.fetchall()\n",
    "    for employee in employees:\n",
    "        print(employee)\n",
    "\n",
    "def update_employee(employee_id, name=None, age=None, position=None):\n",
    "    update_fields = []\n",
    "    if name:\n",
    "        update_fields.append(('name', name))\n",
    "    if age:\n",
    "        update_fields.append(('age', age))\n",
    "    if position:\n",
    "        update_fields.append(('position', position))\n",
    "    \n",
    "    if not update_fields:\n",
    "        print(\"No fields provided for update.\")\n",
    "        return\n",
    "    \n",
    "    update_query = ', '.join([f\"{field} = ?\" for field, _ in update_fields])\n",
    "    cursor.execute(f'''UPDATE employees SET {update_query} WHERE id = ?''', \n",
    "                   [value for _, value in update_fields] + [employee_id])\n",
    "    conn.commit()\n",
    "    print(\"Employee updated successfully.\")\n",
    "\n",
    "def delete_employee(employee_id):\n",
    "    cursor.execute('''DELETE FROM employees WHERE id = ?''', (employee_id,))\n",
    "    conn.commit()\n",
    "    print(\"Employee deleted successfully.\")\n",
    "\n"
   ]
  },
  {
   "cell_type": "code",
   "execution_count": 14,
   "metadata": {},
   "outputs": [
    {
     "name": "stdout",
     "output_type": "stream",
     "text": [
      "Employee added successfully.\n",
      "Employee added successfully.\n"
     ]
    }
   ],
   "source": [
    "# Example usage:\n",
    "# Add new employees\n",
    "add_employee('Siddhant Bhattarai', 27, 'Manager')\n",
    "add_employee('Jane Smith', 25, 'Developer')"
   ]
  },
  {
   "cell_type": "code",
   "execution_count": 15,
   "metadata": {},
   "outputs": [
    {
     "name": "stdout",
     "output_type": "stream",
     "text": [
      "All Employees:\n",
      "(1, 'Siddhant Bhattarai', 27, 'Manager')\n",
      "(2, 'Jane Smith', 25, 'Developer')\n"
     ]
    }
   ],
   "source": [
    "# Read all employees\n",
    "print(\"All Employees:\")\n",
    "read_employees()"
   ]
  },
  {
   "cell_type": "code",
   "execution_count": 16,
   "metadata": {},
   "outputs": [
    {
     "name": "stdout",
     "output_type": "stream",
     "text": [
      "Employee updated successfully.\n"
     ]
    }
   ],
   "source": [
    "# Update an employee's information\n",
    "update_employee(1, position='Senior Manager')"
   ]
  },
  {
   "cell_type": "code",
   "execution_count": 17,
   "metadata": {},
   "outputs": [
    {
     "name": "stdout",
     "output_type": "stream",
     "text": [
      "Employee deleted successfully.\n"
     ]
    }
   ],
   "source": [
    "# Delete an employee\n",
    "delete_employee(2)"
   ]
  },
  {
   "cell_type": "code",
   "execution_count": 18,
   "metadata": {},
   "outputs": [
    {
     "name": "stdout",
     "output_type": "stream",
     "text": [
      "\n",
      "All Employees after modifications:\n",
      "(1, 'Siddhant Bhattarai', 27, 'Senior Manager')\n"
     ]
    }
   ],
   "source": [
    "# Read all employees after modifications\n",
    "print(\"\\nAll Employees after modifications:\")\n",
    "read_employees()\n",
    "\n",
    "# Close the database connection\n",
    "conn.close()"
   ]
  },
  {
   "cell_type": "markdown",
   "metadata": {},
   "source": [
    "2. **Object-Oriented Python**\n",
    "    - Create a class representing a book with attributes for title, author, and ISBN. Implement methods to display book details and to check if two books are the same based on their ISBN."
   ]
  },
  {
   "cell_type": "code",
   "execution_count": 19,
   "metadata": {},
   "outputs": [
    {
     "name": "stdout",
     "output_type": "stream",
     "text": [
      "Details of Book 1:\n",
      "Title: The Great Gatsby\n",
      "Author: F. Scott Fitzgerald\n",
      "ISBN: 9780141182636\n",
      "These books have different ISBNs.\n"
     ]
    }
   ],
   "source": [
    "class Book:\n",
    "    def __init__(self, title, author, isbn):\n",
    "        self.title = title\n",
    "        self.author = author\n",
    "        self.isbn = isbn\n",
    "    \n",
    "    def display_details(self):\n",
    "        print(f\"Title: {self.title}\")\n",
    "        print(f\"Author: {self.author}\")\n",
    "        print(f\"ISBN: {self.isbn}\")\n",
    "    \n",
    "    def __eq__(self, other):\n",
    "        return isinstance(other, Book) and self.isbn == other.isbn\n",
    "\n",
    "# Example usage:\n",
    "book1 = Book(\"The Great Gatsby\", \"F. Scott Fitzgerald\", \"9780141182636\")\n",
    "book2 = Book(\"To Kill a Mockingbird\", \"Harper Lee\", \"9780061120084\")\n",
    "\n",
    "# Display details of book1\n",
    "print(\"Details of Book 1:\")\n",
    "book1.display_details()\n",
    "\n",
    "# Check if two books are the same based on ISBN\n",
    "if book1 == book2:\n",
    "    print(\"These books have the same ISBN.\")\n",
    "else:\n",
    "    print(\"These books have different ISBNs.\")\n"
   ]
  },
  {
   "attachments": {
    "image.png": {
     "image/png": "[encoded data removed]"
    }
   },
   "cell_type": "markdown",
   "metadata": {},
   "source": [
    "3. **Storing Data Across Multiple Tables**\n",
    "    - Design a database schema with two tables: one for customers and one for orders. Implement a program to add customers and orders, and retrieve orders for a specific customer.\n",
    "\n",
    "    ![image.png](attachment:image.png)"
   ]
  },
  {
   "cell_type": "code",
   "execution_count": 31,
   "metadata": {},
   "outputs": [],
   "source": [
    "import sqlite3\n",
    "\n",
    "# Connect to the SQLite database\n",
    "conn = sqlite3.connect('customer_orders.db')\n",
    "cursor = conn.cursor()\n",
    "\n",
    "# Create tables if they don't exist\n",
    "cursor.execute('''CREATE TABLE IF NOT EXISTS customers (\n",
    "                    customer_id INTEGER PRIMARY KEY,\n",
    "                    name TEXT NOT NULL,\n",
    "                    email TEXT NOT NULL UNIQUE\n",
    "                )''')\n",
    "\n",
    "cursor.execute('''CREATE TABLE IF NOT EXISTS orders (\n",
    "                    order_id INTEGER PRIMARY KEY,\n",
    "                    customer_id INTEGER NOT NULL,\n",
    "                    product TEXT NOT NULL,\n",
    "                    quantity INTEGER NOT NULL,\n",
    "                    order_date DATE NOT NULL,\n",
    "                    FOREIGN KEY (customer_id) REFERENCES customers (customer_id)\n",
    "                )''')\n",
    "\n",
    "conn.commit()\n",
    "\n",
    "def add_customer(name, email):\n",
    "    try:\n",
    "        cursor.execute('''INSERT INTO customers (name, email) VALUES (?, ?)''', (name, email))\n",
    "        conn.commit()\n",
    "        print(\"Customer added successfully.\")\n",
    "    except sqlite3.IntegrityError:\n",
    "        print(\"Error: Email already exists.\")\n",
    "\n",
    "def add_order(customer_id, product, quantity, order_date):\n",
    "    cursor.execute('''INSERT INTO orders (customer_id, product, quantity, order_date) \n",
    "                      VALUES (?, ?, ?, ?)''', (customer_id, product, quantity, order_date))\n",
    "    conn.commit()\n",
    "    print(\"Order added successfully.\")\n",
    "\n",
    "def get_orders_for_customer(customer_id):\n",
    "    cursor.execute('''SELECT * FROM orders WHERE customer_id = ?''', (customer_id,))\n",
    "    orders = cursor.fetchall()\n",
    "    if orders:\n",
    "        for order in orders:\n",
    "            print(order)\n",
    "    else:\n",
    "        print(\"No orders found for this customer.\")\n"
   ]
  },
  {
   "cell_type": "code",
   "execution_count": 32,
   "metadata": {},
   "outputs": [
    {
     "name": "stdout",
     "output_type": "stream",
     "text": [
      "Customer added successfully.\n",
      "Customer added successfully.\n"
     ]
    }
   ],
   "source": [
    "# Example usage:\n",
    "# Add customers\n",
    "add_customer('John Doe', 'john@example.com')\n",
    "add_customer('Jane Smith', 'jane@example.com')"
   ]
  },
  {
   "cell_type": "code",
   "execution_count": 33,
   "metadata": {},
   "outputs": [
    {
     "name": "stdout",
     "output_type": "stream",
     "text": [
      "Order added successfully.\n",
      "Order added successfully.\n",
      "Order added successfully.\n"
     ]
    }
   ],
   "source": [
    "# Add orders\n",
    "add_order(1, 'Book', 2, '2024-06-01')\n",
    "add_order(1, 'Phone', 1, '2024-06-03')\n",
    "add_order(2, 'Laptop', 1, '2024-06-02')"
   ]
  },
  {
   "cell_type": "code",
   "execution_count": 34,
   "metadata": {},
   "outputs": [
    {
     "name": "stdout",
     "output_type": "stream",
     "text": [
      "\n",
      "Orders for John Doe:\n",
      "(1, 1, 'Book', 2, '2024-06-01')\n",
      "(2, 1, 'Phone', 1, '2024-06-03')\n"
     ]
    }
   ],
   "source": [
    "# Retrieve orders for a specific customer\n",
    "print(\"\\nOrders for John Doe:\")\n",
    "get_orders_for_customer(1)\n",
    "\n",
    "# Close the database connection\n",
    "conn.close()"
   ]
  },
  {
   "cell_type": "markdown",
   "metadata": {},
   "source": [
    "4. **Using Google Maps API**\n",
    "    - Write a program that takes a list of addresses, retrieves their geographical coordinates using the Google Maps API, and displays them on a map."
   ]
  },
  {
   "cell_type": "markdown",
   "metadata": {},
   "source": [
    "- <button style=\"background-color:#ff9800; color: white; border: none; padding: 10px 24px;\">Develop a Contact Management System</button>\n",
    "\n",
    "  Develop a contact management system where users can add, update, delete, and search for contacts. Each contact should have a name, phone number, email, and address. Use a SQLite database to store the contacts and implement a user-friendly interface for managing them.\n"
   ]
  },
  {
   "cell_type": "code",
   "execution_count": 39,
   "metadata": {},
   "outputs": [],
   "source": [
    "import sqlite3\n",
    "import tkinter as tk\n",
    "from tkinter import messagebox\n",
    "\n",
    "class ContactManager:\n",
    "    def __init__(self, master):\n",
    "        self.master = master\n",
    "        self.master.title(\"Contact Management System\")\n",
    "        \n",
    "        # Connect to the SQLite database\n",
    "        self.conn = sqlite3.connect('contacts.db')\n",
    "        self.cursor = self.conn.cursor()\n",
    "        \n",
    "        # Create contacts table if not exists\n",
    "        self.cursor.execute('''CREATE TABLE IF NOT EXISTS contacts (\n",
    "                                id INTEGER PRIMARY KEY,\n",
    "                                name TEXT NOT NULL,\n",
    "                                phone TEXT NOT NULL,\n",
    "                                email TEXT,\n",
    "                                address TEXT\n",
    "                            )''')\n",
    "        self.conn.commit()\n",
    "        \n",
    "        # Create UI elements\n",
    "        self.name_label = tk.Label(master, text=\"Name:\")\n",
    "        self.name_label.grid(row=0, column=0, padx=5, pady=5)\n",
    "        self.name_entry = tk.Entry(master)\n",
    "        self.name_entry.grid(row=0, column=1, padx=5, pady=5)\n",
    "        \n",
    "        self.phone_label = tk.Label(master, text=\"Phone:\")\n",
    "        self.phone_label.grid(row=1, column=0, padx=5, pady=5)\n",
    "        self.phone_entry = tk.Entry(master)\n",
    "        self.phone_entry.grid(row=1, column=1, padx=5, pady=5)\n",
    "        \n",
    "        self.email_label = tk.Label(master, text=\"Email:\")\n",
    "        self.email_label.grid(row=2, column=0, padx=5, pady=5)\n",
    "        self.email_entry = tk.Entry(master)\n",
    "        self.email_entry.grid(row=2, column=1, padx=5, pady=5)\n",
    "        \n",
    "        self.address_label = tk.Label(master, text=\"Address:\")\n",
    "        self.address_label.grid(row=3, column=0, padx=5, pady=5)\n",
    "        self.address_entry = tk.Entry(master)\n",
    "        self.address_entry.grid(row=3, column=1, padx=5, pady=5)\n",
    "        \n",
    "        # Buttons for CRUD operations\n",
    "        self.add_button = tk.Button(master, text=\"Add Contact\", command=self.add_contact)\n",
    "        self.add_button.grid(row=4, column=0, columnspan=2, padx=5, pady=5, sticky=\"we\")\n",
    "        \n",
    "        self.update_button = tk.Button(master, text=\"Update Contact\", command=self.update_contact)\n",
    "        self.update_button.grid(row=5, column=0, columnspan=2, padx=5, pady=5, sticky=\"we\")\n",
    "        \n",
    "        self.delete_button = tk.Button(master, text=\"Delete Contact\", command=self.delete_contact)\n",
    "        self.delete_button.grid(row=6, column=0, columnspan=2, padx=5, pady=5, sticky=\"we\")\n",
    "        \n",
    "        self.search_button = tk.Button(master, text=\"Search Contact\", command=self.search_contact)\n",
    "        self.search_button.grid(row=7, column=0, columnspan=2, padx=5, pady=5, sticky=\"we\")\n",
    "        \n",
    "        # Listbox to display contacts\n",
    "        self.contacts_listbox = tk.Listbox(master, width=50, height=10)\n",
    "        self.contacts_listbox.grid(row=8, column=0, columnspan=2, padx=5, pady=5)\n",
    "        \n",
    "        # Populate listbox with existing contacts\n",
    "        self.refresh_contacts()\n",
    "\n",
    "    def add_contact(self):\n",
    "        name = self.name_entry.get()\n",
    "        phone = self.phone_entry.get()\n",
    "        email = self.email_entry.get()\n",
    "        address = self.address_entry.get()\n",
    "        \n",
    "        if name and phone:\n",
    "            self.cursor.execute('''INSERT INTO contacts (name, phone, email, address) \n",
    "                                   VALUES (?, ?, ?, ?)''', (name, phone, email, address))\n",
    "            self.conn.commit()\n",
    "            self.clear_entries()\n",
    "            self.refresh_contacts()\n",
    "        else:\n",
    "            messagebox.showwarning(\"Warning\", \"Name and phone are required fields.\")\n",
    "\n",
    "    def update_contact(self):\n",
    "        selected_contact = self.contacts_listbox.curselection()\n",
    "        if selected_contact:\n",
    "            contact_id = self.contacts_listbox.get(selected_contact[0]).split(':')[0]\n",
    "            name = self.name_entry.get()\n",
    "            phone = self.phone_entry.get()\n",
    "            email = self.email_entry.get()\n",
    "            address = self.address_entry.get()\n",
    "            self.cursor.execute('''UPDATE contacts SET name=?, phone=?, email=?, address=? \n",
    "                                   WHERE id=?''', (name, phone, email, address, contact_id))\n",
    "            self.conn.commit()\n",
    "            self.clear_entries()\n",
    "            self.refresh_contacts()\n",
    "        else:\n",
    "            messagebox.showwarning(\"Warning\", \"Please select a contact to update.\")\n",
    "\n",
    "    def delete_contact(self):\n",
    "        selected_contact = self.contacts_listbox.curselection()\n",
    "        if selected_contact:\n",
    "            contact_id = self.contacts_listbox.get(selected_contact[0]).split(':')[0]\n",
    "            self.cursor.execute('''DELETE FROM contacts WHERE id=?''', (contact_id,))\n",
    "            self.conn.commit()\n",
    "            self.clear_entries()\n",
    "            self.refresh_contacts()\n",
    "        else:\n",
    "            messagebox.showwarning(\"Warning\", \"Please select a contact to delete.\")\n",
    "\n",
    "    def search_contact(self):\n",
    "        name = self.name_entry.get()\n",
    "        phone = self.phone_entry.get()\n",
    "        email = self.email_entry.get()\n",
    "        address = self.address_entry.get()\n",
    "        \n",
    "        query = '''SELECT * FROM contacts WHERE name LIKE ? AND phone LIKE ? AND email LIKE ? AND address LIKE ?'''\n",
    "        self.cursor.execute(query, ('%' + name + '%', '%' + phone + '%', '%' + email + '%', '%' + address + '%'))\n",
    "        contacts = self.cursor.fetchall()\n",
    "        \n",
    "        self.contacts_listbox.delete(0, tk.END)\n",
    "        for contact in contacts:\n",
    "            self.contacts_listbox.insert(tk.END, f\"{contact[0]}: {contact[1]}, {contact[2]}\")\n",
    "    \n",
    "    def refresh_contacts(self):\n",
    "        self.contacts_listbox.delete(0, tk.END)\n",
    "        self.cursor.execute('''SELECT * FROM contacts''')\n",
    "        contacts = self.cursor.fetchall()\n",
    "        for contact in contacts:\n",
    "            self.contacts_listbox.insert(tk.END, f\"{contact[0]}: {contact[1]}, {contact[2]}\")\n",
    "    \n",
    "    def clear_entries(self):\n",
    "        self.name_entry.delete(0, tk.END)\n",
    "        self.phone_entry.delete(0, tk.END)\n",
    "        self.email_entry.delete(0, tk.END)\n",
    "        self.address_entry.delete(0, tk.END)\n",
    "\n",
    "def main():\n",
    "    root = tk.Tk()\n",
    "    app = ContactManager(root)\n",
    "    root.mainloop()\n",
    "\n",
    "if __name__ == \"__main__\":\n",
    "    main()\n"
   ]
  },
  {
   "cell_type": "code",
   "execution_count": null,
   "metadata": {},
   "outputs": [],
   "source": []
  }
 ],
 "metadata": {
  "kernelspec": {
   "display_name": "ml_emv",
   "language": "python",
   "name": "python3"
  },
  "language_info": {
   "codemirror_mode": {
    "name": "ipython",
    "version": 3
   },
   "file_extension": ".py",
   "mimetype": "text/x-python",
   "name": "python",
   "nbconvert_exporter": "python",
   "pygments_lexer": "ipython3",
   "version": "3.11.5"
  }
 },
 "nbformat": 4,
 "nbformat_minor": 2
}
