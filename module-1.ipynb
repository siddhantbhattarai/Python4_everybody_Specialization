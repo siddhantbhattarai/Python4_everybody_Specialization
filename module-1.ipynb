{
 "cells": [
  {
   "cell_type": "markdown",
   "metadata": {},
   "source": [
    "**Step 1: Install Python**\n",
    "\n",
    "1. Go to the official Python website: https://www.python.org/downloads/\n",
    "2. Download the latest version of Python for your operating system (Windows, macOS, or Linux).\n",
    "3. Run the installer and follow the on-screen instructions. Make sure to select the option to add Python to your system's PATH variable during the installation process.\n",
    "\n",
    "**Step 2: Verify the Installation**\n",
    "\n",
    "1. Open your terminal or command prompt.\n",
    "2. Type `python --version` and press Enter. If Python is installed correctly, it should display the version number.\n",
    "\n",
    "**Step 3: Write Your First Python Program**\n",
    "\n",
    "1. Open a text editor (e.g., Notepad, Sublime Text, Visual Studio Code).\n",
    "2. Create a new file and save it with a `.py` extension, for example, `hello_world.py`.\n",
    "3. In the text editor, type the following code:\n",
    "\n",
    "```python\n",
    "print(\"Hello, World!\")\n",
    "```\n",
    "\n",
    "**Step 4: Run Your Python Program**\n",
    "\n",
    "1. Open your terminal or command prompt.\n",
    "2. Navigate to the directory where you saved your `hello_world.py` file using the `cd` command (e.g., `cd Desktop` if the file is on your Desktop).\n",
    "3. Once you're in the correct directory, type `python hello_world.py` and press Enter.\n",
    "4. You should see the output `Hello, World!` in your terminal or command prompt.\n",
    "\n",
    "Congratulations! You've successfully installed Python and written your first program.\n",
    "\n",
    "**Optional Step: Use an Integrated Development Environment (IDE)**\n",
    "\n",
    "While you can write and run Python programs using a text editor and the terminal, you may find it more convenient to use an Integrated Development Environment (IDE) designed specifically for Python development. Popular IDEs include:\n",
    "\n",
    "- PyCharm (https://www.jetbrains.com/pycharm/)\n",
    "- Visual Studio Code (https://code.visualstudio.com/) with the Python extension\n",
    "- Spyder (https://www.spyder-ide.org/)\n",
    "\n",
    "IDEs provide features like code completion, debugging tools, and project management, which can make the development process smoother, especially for larger projects."
   ]
  },
  {
   "cell_type": "code",
   "execution_count": 1,
   "metadata": {},
   "outputs": [
    {
     "name": "stdout",
     "output_type": "stream",
     "text": [
      "Hello World!!\n"
     ]
    }
   ],
   "source": [
    "print(\"Hello World!!\")"
   ]
  },
  {
   "cell_type": "code",
   "execution_count": 2,
   "metadata": {},
   "outputs": [
    {
     "name": "stdout",
     "output_type": "stream",
     "text": [
      "Hello Siddhant, you are 28 years old.\n"
     ]
    }
   ],
   "source": [
    "# Ask the user for their name\n",
    "name = input(\"What is your name? \")\n",
    "\n",
    "# Ask the user for their age\n",
    "age = input(\"What is your age? \")\n",
    "\n",
    "# Print the message\n",
    "print(f\"Hello {name}, you are {age} years old.\")"
   ]
  },
  {
   "cell_type": "code",
   "execution_count": 3,
   "metadata": {},
   "outputs": [
    {
     "name": "stdout",
     "output_type": "stream",
     "text": [
      "37.0 degrees Celsius is equal to 98.6 degrees Fahrenheit.\n"
     ]
    }
   ],
   "source": [
    "# Ask the user to enter the temperature in Celsius\n",
    "celsius = float(input(\"Enter the temperature in Celsius: \"))\n",
    "\n",
    "# Convert Celsius to Fahrenheit\n",
    "fahrenheit = (celsius * 9/5) + 32\n",
    "\n",
    "# Print the result\n",
    "print(f\"{celsius} degrees Celsius is equal to {fahrenheit} degrees Fahrenheit.\")"
   ]
  },
  {
   "cell_type": "code",
   "execution_count": 4,
   "metadata": {},
   "outputs": [
    {
     "name": "stdout",
     "output_type": "stream",
     "text": [
      "The sum of the list [1, 2, 3, 4, 5] is 15\n"
     ]
    }
   ],
   "source": [
    "# Part 1: Function to sum a list of numbers\n",
    "def sum_list(numbers):\n",
    "    \"\"\"\n",
    "    Takes a list of numbers and returns the sum of all the numbers.\n",
    "    \"\"\"\n",
    "    total = 0\n",
    "    for num in numbers:\n",
    "        total += num\n",
    "    return total\n",
    "\n",
    "# Example usage\n",
    "numbers = [1, 2, 3, 4, 5]\n",
    "result = sum_list(numbers)\n",
    "print(f\"The sum of the list {numbers} is {result}\")"
   ]
  },
  {
   "cell_type": "code",
   "execution_count": 5,
   "metadata": {},
   "outputs": [
    {
     "name": "stdout",
     "output_type": "stream",
     "text": [
      "Even numbers from 1 to 100:\n",
      "2\n",
      "4\n",
      "6\n",
      "8\n",
      "10\n",
      "12\n",
      "14\n",
      "16\n",
      "18\n",
      "20\n",
      "22\n",
      "24\n",
      "26\n",
      "28\n",
      "30\n",
      "32\n",
      "34\n",
      "36\n",
      "38\n",
      "40\n",
      "42\n",
      "44\n",
      "46\n",
      "48\n",
      "50\n",
      "52\n",
      "54\n",
      "56\n",
      "58\n",
      "60\n",
      "62\n",
      "64\n",
      "66\n",
      "68\n",
      "70\n",
      "72\n",
      "74\n",
      "76\n",
      "78\n",
      "80\n",
      "82\n",
      "84\n",
      "86\n",
      "88\n",
      "90\n",
      "92\n",
      "94\n",
      "96\n",
      "98\n",
      "100\n"
     ]
    }
   ],
   "source": [
    "# Part 2: Loop to print even numbers from 1 to 100\n",
    "\n",
    "# Loop to print even numbers from 1 to 100\n",
    "print(\"Even numbers from 1 to 100:\")\n",
    "for num in range(1, 101):\n",
    "    if num % 2 == 0:\n",
    "        print(num)"
   ]
  },
  {
   "cell_type": "code",
   "execution_count": 6,
   "metadata": {},
   "outputs": [
    {
     "name": "stdout",
     "output_type": "stream",
     "text": [
      "Welcome to the calculator!\n",
      "12.0 - 11.0 = 1.0\n"
     ]
    }
   ],
   "source": [
    "def calculator():\n",
    "    \"\"\"\n",
    "    A simple calculator that performs basic arithmetic operations.\n",
    "    \"\"\"\n",
    "    print(\"Welcome to the calculator!\")\n",
    "\n",
    "    # Get the first number from the user\n",
    "    num1 = float(input(\"Enter the first number: \"))\n",
    "\n",
    "    # Get the operation from the user\n",
    "    operation = input(\"Enter the operation (+, -, *, /): \")\n",
    "\n",
    "    # Get the second number from the user\n",
    "    num2 = float(input(\"Enter the second number: \"))\n",
    "\n",
    "    # Perform the calculation based on the operation\n",
    "    if operation == \"+\":\n",
    "        result = num1 + num2\n",
    "    elif operation == \"-\":\n",
    "        result = num1 - num2\n",
    "    elif operation == \"*\":\n",
    "        result = num1 * num2\n",
    "    elif operation == \"/\":\n",
    "        if num2 == 0:\n",
    "            print(\"Error: Division by zero is not allowed.\")\n",
    "            return\n",
    "        result = num1 / num2\n",
    "    else:\n",
    "        print(\"Error: Invalid operation.\")\n",
    "        return\n",
    "\n",
    "    # Print the result\n",
    "    print(f\"{num1} {operation} {num2} = {result}\")\n",
    "\n",
    "# Call the calculator function\n",
    "calculator()"
   ]
  }
 ],
 "metadata": {
  "kernelspec": {
   "display_name": "ml_emv",
   "language": "python",
   "name": "python3"
  },
  "language_info": {
   "codemirror_mode": {
    "name": "ipython",
    "version": 3
   },
   "file_extension": ".py",
   "mimetype": "text/x-python",
   "name": "python",
   "nbconvert_exporter": "python",
   "pygments_lexer": "ipython3",
   "version": "3.11.5"
  }
 },
 "nbformat": 4,
 "nbformat_minor": 2
}
