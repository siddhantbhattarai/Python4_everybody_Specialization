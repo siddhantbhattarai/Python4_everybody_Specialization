{
 "cells": [
  {
   "cell_type": "code",
   "execution_count": 1,
   "metadata": {},
   "outputs": [
    {
     "name": "stdout",
     "output_type": "stream",
     "text": [
      "Enter a list of integers (separated by commas or spaces):\n",
      "The minimum value in the list is: 10\n",
      "The maximum value in the list is: 40\n"
     ]
    }
   ],
   "source": [
    "def find_min_max(numbers):\n",
    "    \"\"\"\n",
    "    Finds the minimum and maximum values in a list of numbers.\n",
    "    \"\"\"\n",
    "    if not numbers:\n",
    "        return None, None  # Return None if the list is empty\n",
    "\n",
    "    # Initialize min and max with the first element of the list\n",
    "    min_value = max_value = numbers[0]\n",
    "\n",
    "    # Iterate through the list and update min and max\n",
    "    for num in numbers:\n",
    "        if num < min_value:\n",
    "            min_value = num\n",
    "        elif num > max_value:\n",
    "            max_value = num\n",
    "\n",
    "    return min_value, max_value\n",
    "\n",
    "# Read the list of integers from the user\n",
    "print(\"Enter a list of integers (separated by commas or spaces):\")\n",
    "user_input = input()\n",
    "\n",
    "# Split the input string into a list of integers\n",
    "try:\n",
    "    numbers = [int(num) for num in user_input.split(\",\")]\n",
    "except ValueError:\n",
    "    numbers = [int(num) for num in user_input.split()]\n",
    "\n",
    "# Find and print the minimum and maximum values\n",
    "minimum, maximum = find_min_max(numbers)\n",
    "if minimum is None and maximum is None:\n",
    "    print(\"The list is empty.\")\n",
    "else:\n",
    "    print(f\"The minimum value in the list is: {minimum}\")\n",
    "    print(f\"The maximum value in the list is: {maximum}\")"
   ]
  },
  {
   "cell_type": "code",
   "execution_count": 2,
   "metadata": {},
   "outputs": [
    {
     "name": "stdout",
     "output_type": "stream",
     "text": [
      "Number of lines: 9\n",
      "Number of words: 41\n",
      "Number of characters: 234\n"
     ]
    }
   ],
   "source": [
    "def count_file_stats(file_path):\n",
    "    \"\"\"\n",
    "    Counts the number of lines, words, and characters in a text file.\n",
    "    \"\"\"\n",
    "    try:\n",
    "        with open(file_path, 'r') as file:\n",
    "            # Read the contents of the file\n",
    "            contents = file.read()\n",
    "\n",
    "            # Count the number of lines\n",
    "            lines = contents.count('\\n') + 1\n",
    "\n",
    "            # Count the number of words\n",
    "            words = len(contents.split())\n",
    "\n",
    "            # Count the number of characters\n",
    "            characters = len(contents)\n",
    "\n",
    "            return lines, words, characters\n",
    "\n",
    "    except FileNotFoundError:\n",
    "        print(f\"Error: File '{file_path}' not found.\")\n",
    "    except Exception as e:\n",
    "        print(f\"Error: {e}\")\n",
    "\n",
    "# Prompt the user for the file path\n",
    "file_path = input(\"Enter the file path: \")\n",
    "\n",
    "# Call the function to count the file stats\n",
    "lines, words, characters = count_file_stats(file_path)\n",
    "\n",
    "# Print the results if the file was read successfully\n",
    "if lines and words and characters:\n",
    "    print(f\"Number of lines: {lines}\")\n",
    "    print(f\"Number of words: {words}\")\n",
    "    print(f\"Number of characters: {characters}\")"
   ]
  },
  {
   "cell_type": "code",
   "execution_count": 3,
   "metadata": {},
   "outputs": [
    {
     "name": "stdout",
     "output_type": "stream",
     "text": [
      "Word frequencies:\n",
      "hello: 1\n",
      "world: 1\n"
     ]
    }
   ],
   "source": [
    "def count_word_frequency(sentence):\n",
    "    \"\"\"\n",
    "    Counts the frequency of each word in a given sentence.\n",
    "    \"\"\"\n",
    "    # Convert the sentence to lowercase and split it into words\n",
    "    words = sentence.lower().split()\n",
    "\n",
    "    # Create a dictionary to store word frequencies\n",
    "    word_freq = {}\n",
    "\n",
    "    # Count the frequency of each word\n",
    "    for word in words:\n",
    "        if word in word_freq:\n",
    "            word_freq[word] += 1\n",
    "        else:\n",
    "            word_freq[word] = 1\n",
    "\n",
    "    return word_freq\n",
    "\n",
    "# Prompt the user to enter a sentence\n",
    "user_sentence = input(\"Enter a sentence: \")\n",
    "\n",
    "# Call the function to count word frequencies\n",
    "word_frequencies = count_word_frequency(user_sentence)\n",
    "\n",
    "# Print the word frequencies\n",
    "print(\"Word frequencies:\")\n",
    "for word, frequency in word_frequencies.items():\n",
    "    print(f\"{word}: {frequency}\")"
   ]
  },
  {
   "cell_type": "code",
   "execution_count": 1,
   "metadata": {},
   "outputs": [
    {
     "name": "stdout",
     "output_type": "stream",
     "text": [
      "Student Alice added with grade 85.5.\n",
      "Student Bob added with grade 92.0.\n",
      "Student Charlie added with grade 78.0.\n",
      "Grade updated for Bob to 90.0.\n",
      "The average grade of the class is 84.50.\n",
      "Student records saved to student_grades.txt.\n",
      "Student Alice added with grade 85.5.\n",
      "Student Bob added with grade 90.0.\n",
      "Student Charlie added with grade 78.0.\n",
      "Student records loaded from student_grades.txt.\n"
     ]
    }
   ],
   "source": [
    "# Real world Problem:\n",
    "class Student:\n",
    "    def __init__(self, name, grade):\n",
    "        self.name = name\n",
    "        self.grade = grade\n",
    "\n",
    "class GradeManager:\n",
    "    def __init__(self):\n",
    "        self.students = []\n",
    "\n",
    "    def add_student(self, name, grade):\n",
    "        student = Student(name, grade)\n",
    "        self.students.append(student)\n",
    "        print(f\"Student {name} added with grade {grade}.\")\n",
    "\n",
    "    def update_grade(self, name, new_grade):\n",
    "        for student in self.students:\n",
    "            if student.name == name:\n",
    "                student.grade = new_grade\n",
    "                print(f\"Grade updated for {name} to {new_grade}.\")\n",
    "                return\n",
    "        print(f\"Student {name} not found.\")\n",
    "\n",
    "    def calculate_average(self):\n",
    "        total_grades = sum(student.grade for student in self.students)\n",
    "        average_grade = total_grades / len(self.students)\n",
    "        print(f\"The average grade of the class is {average_grade:.2f}.\")\n",
    "\n",
    "    def save_to_file(self, filename):\n",
    "        with open(filename, \"w\") as file:\n",
    "            for student in self.students:\n",
    "                file.write(f\"{student.name},{student.grade}\\n\")\n",
    "        print(f\"Student records saved to {filename}.\")\n",
    "\n",
    "    def load_from_file(self, filename):\n",
    "        try:\n",
    "            with open(filename, \"r\") as file:\n",
    "                for line in file:\n",
    "                    name, grade = line.strip().split(\",\")\n",
    "                    self.add_student(name, float(grade))\n",
    "            print(f\"Student records loaded from {filename}.\")\n",
    "        except FileNotFoundError:\n",
    "            print(f\"File {filename} not found.\")\n",
    "\n",
    "# Example usage\n",
    "grade_manager = GradeManager()\n",
    "\n",
    "grade_manager.add_student(\"Alice\", 85.5)\n",
    "grade_manager.add_student(\"Bob\", 92.0)\n",
    "grade_manager.add_student(\"Charlie\", 78.0)\n",
    "\n",
    "grade_manager.update_grade(\"Bob\", 90.0)\n",
    "\n",
    "grade_manager.calculate_average()\n",
    "\n",
    "grade_manager.save_to_file(\"student_grades.txt\")\n",
    "\n",
    "grade_manager.load_from_file(\"student_grades.txt\")"
   ]
  },
  {
   "cell_type": "code",
   "execution_count": null,
   "metadata": {},
   "outputs": [],
   "source": []
  }
 ],
 "metadata": {
  "kernelspec": {
   "display_name": "ml_emv",
   "language": "python",
   "name": "python3"
  },
  "language_info": {
   "codemirror_mode": {
    "name": "ipython",
    "version": 3
   },
   "file_extension": ".py",
   "mimetype": "text/x-python",
   "name": "python",
   "nbconvert_exporter": "python",
   "pygments_lexer": "ipython3",
   "version": "3.11.5"
  }
 },
 "nbformat": 4,
 "nbformat_minor": 2
}
